{
  "cells": [
    {
      "cell_type": "markdown",
      "metadata": {
        "id": "view-in-github",
        "colab_type": "text"
      },
      "source": [
        "<a href=\"https://colab.research.google.com/github/clashgamer123/SOC_Pytorch/blob/main/mnist_cnn_autoencode.ipynb\" target=\"_parent\"><img src=\"https://colab.research.google.com/assets/colab-badge.svg\" alt=\"Open In Colab\"/></a>"
      ]
    },
    {
      "cell_type": "markdown",
      "metadata": {
        "id": "dIiAzdzMZCLS"
      },
      "source": [
        "Let us create an AutoEncoder that encodes and decodes the standard MNIST data. <br>\n",
        "import all the libraries"
      ]
    },
    {
      "cell_type": "code",
      "execution_count": 29,
      "metadata": {
        "id": "sDmTnSXfXh99"
      },
      "outputs": [],
      "source": [
        "import torch\n",
        "from torch import nn, optim\n",
        "from torch.nn import functional as F\n",
        "from torch.utils.data import DataLoader\n",
        "from torchvision import datasets, transforms\n",
        "import numpy as np\n",
        "import matplotlib.pyplot as plt"
      ]
    },
    {
      "cell_type": "markdown",
      "metadata": {
        "id": "1tDn6WZ8Zhfk"
      },
      "source": [
        "Let us create our DataSet."
      ]
    },
    {
      "cell_type": "code",
      "execution_count": 30,
      "metadata": {
        "id": "BkMeMDtnZlXZ"
      },
      "outputs": [],
      "source": [
        "transform = transforms.Compose([\n",
        "    transforms.ToTensor(),\n",
        "    transforms.Normalize(mean = 0.1307, std = 0.3087),\n",
        "])\n",
        "\n",
        "batch_size = 64\n",
        "\n",
        "mnist_data = datasets.MNIST(root = './data', train = True, download = True, transform = transform)\n",
        "data_loader = DataLoader(dataset = mnist_data, batch_size = batch_size, shuffle = True)"
      ]
    },
    {
      "cell_type": "markdown",
      "metadata": {
        "id": "fuCPV1Z3azlj"
      },
      "source": [
        "Now comes the main part. Let us implement the Autoencoder."
      ]
    },
    {
      "cell_type": "code",
      "execution_count": 31,
      "metadata": {
        "id": "YPbCJCKHa7Jv"
      },
      "outputs": [],
      "source": [
        "\n",
        "class ConvAutoEncoder(nn.Module):\n",
        "    def __init__(self):\n",
        "        super(ConvAutoEncoder, self).__init__()\n",
        "\n",
        "        # Encoder\n",
        "        self.encoder = nn.Sequential(\n",
        "            nn.Conv2d(1, 32, kernel_size=3, stride=2, padding=1),  # Output: 32 x 14 x 14\n",
        "            nn.ReLU(),\n",
        "            nn.Conv2d(32, 64, kernel_size=3, stride=2, padding=1), # Output: 64 x 7 x 7\n",
        "            nn.ReLU(),\n",
        "            nn.Conv2d(64, 128, kernel_size=7, stride=1, padding=0) # Output: 128 x 1 x 1\n",
        "        )\n",
        "\n",
        "        # Decoder\n",
        "        self.decoder = nn.Sequential(\n",
        "            nn.ConvTranspose2d(128, 64, kernel_size=7, stride=1, padding=0),  # Output: 64 x 7 x 7\n",
        "            nn.ReLU(),\n",
        "            nn.ConvTranspose2d(64, 32, kernel_size=4, stride=2, padding=1),  # Output: 32 x 14 x 14\n",
        "            nn.ReLU(),\n",
        "            nn.ConvTranspose2d(32, 1, kernel_size=4, stride=2, padding=1),   # Output: 1 x 28 x 28\n",
        "            nn.Sigmoid()\n",
        "        )\n",
        "\n",
        "\n",
        "    def forward(self, x):\n",
        "      encoded = self.encoder(x)\n",
        "      decoded = self.decoder(encoded)\n",
        "      return decoded"
      ]
    },
    {
      "cell_type": "markdown",
      "metadata": {
        "id": "UQP5JFSzcIix"
      },
      "source": [
        "Now define the loss criteriona and the optimizer."
      ]
    },
    {
      "cell_type": "code",
      "execution_count": 32,
      "metadata": {
        "id": "w6naUtcZcM2y"
      },
      "outputs": [],
      "source": [
        "model = ConvAutoEncoder()\n",
        "criterion = nn.MSELoss()\n",
        "optimizer = torch.optim.Adam(model.parameters(), lr = 1e-3, weight_decay = 1e-5)"
      ]
    },
    {
      "cell_type": "markdown",
      "metadata": {
        "id": "5D-9xf_lcS4w"
      },
      "source": [
        "Train the model."
      ]
    },
    {
      "cell_type": "code",
      "execution_count": null,
      "metadata": {
        "id": "zkiefMMlcUPn"
      },
      "outputs": [],
      "source": [
        "epochs = 10\n",
        "for epoch in range(epochs):\n",
        "  outputs = []\n",
        "  cum_loss = 0\n",
        "  # Let us append some images and their reformed images so as to check how close they are.\n",
        "  for dataset in data_loader:\n",
        "    image, label = dataset\n",
        "\n",
        "    reformed_img = model(image)\n",
        "    loss = criterion(reformed_img, image)\n",
        "\n",
        "    optimizer.zero_grad()\n",
        "    loss.backward()\n",
        "    optimizer.step()\n",
        "\n",
        "    cum_loss += loss.item()*batch_size\n",
        "    outputs.append((epoch, image, reformed_img))\n",
        "\n",
        "  print(f'Epoch: {epoch+1}, Loss: {cum_loss/len(data_loader.dataset):.4f}')\n"
      ]
    },
    {
      "cell_type": "markdown",
      "metadata": {
        "id": "G-Dl8A9Hdpvy"
      },
      "source": [
        "Let us show the images plt and compare them."
      ]
    },
    {
      "cell_type": "code",
      "execution_count": null,
      "metadata": {
        "id": "GtvxVS4JdwAn"
      },
      "outputs": [],
      "source": [
        "for k in range(0, epochs, 4):\n",
        "  plt.figure(figsize = (9, 2))\n",
        "  plt.gray()\n",
        "  imgs = outputs[k][1].detach().numpy()\n",
        "  reformed_imgs = outputs[k][2].detach().numpy()\n",
        "  for i, item in enumerate(imgs):\n",
        "    if i >= 9:\n",
        "      break\n",
        "    plt.subplot(2, 9, i+1)\n",
        "    plt.imshow(item.reshape(28, 28))\n",
        "\n",
        "  for i, item in enumerate(reformed_imgs):\n",
        "    if i >= 9:\n",
        "      break\n",
        "    plt.subplot(2, 9, 9+i+1)\n",
        "    plt.imshow(item.reshape(28, 28))"
      ]
    }
  ],
  "metadata": {
    "colab": {
      "provenance": [],
      "authorship_tag": "ABX9TyPo20Kdeb2SIkYm9IuoFZTP",
      "include_colab_link": true
    },
    "kernelspec": {
      "display_name": "Python 3",
      "name": "python3"
    },
    "language_info": {
      "name": "python"
    }
  },
  "nbformat": 4,
  "nbformat_minor": 0
}