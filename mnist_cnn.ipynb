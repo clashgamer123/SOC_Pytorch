{
  "cells": [
    {
      "cell_type": "markdown",
      "metadata": {
        "id": "view-in-github",
        "colab_type": "text"
      },
      "source": [
        "<a href=\"https://colab.research.google.com/github/clashgamer123/SOC_Pytorch/blob/main/mnist_cnn.ipynb\" target=\"_parent\"><img src=\"https://colab.research.google.com/assets/colab-badge.svg\" alt=\"Open In Colab\"/></a>"
      ]
    },
    {
      "cell_type": "markdown",
      "metadata": {
        "id": "y6gn3kuXKbAl"
      },
      "source": [
        "We are implementing a Convolutional Neural Network that will be trained with the standard MNIST data set.\n"
      ]
    },
    {
      "cell_type": "markdown",
      "metadata": {
        "id": "6x4p_k5UKrIU"
      },
      "source": [
        "Lets import all the libraries we are going to use."
      ]
    },
    {
      "cell_type": "code",
      "execution_count": null,
      "metadata": {
        "id": "eUe7q6QhKLir"
      },
      "outputs": [],
      "source": [
        "import torch\n",
        "from torch import nn, optim\n",
        "from torch.utils.data import DataLoader, random_split\n",
        "from torchvision import datasets, transforms\n",
        "from torch.nn import functional as F\n",
        "\n",
        "import matplotlib.pyplot as plt\n",
        "import numpy as np"
      ]
    },
    {
      "cell_type": "markdown",
      "metadata": {
        "id": "ptMl_qn8K4vF"
      },
      "source": [
        "Preparing the MNIST data set.\n",
        "The mean = 0.1307 and std = 0.3081 are of the entire standard MNIST data set. By normalising the entire data set with these values our model can be trained more efficiently as the convergence of the weights is faster."
      ]
    },
    {
      "cell_type": "code",
      "execution_count": null,
      "metadata": {
        "colab": {
          "base_uri": "https://localhost:8080/"
        },
        "id": "n4wfdlamK82t",
        "outputId": "9a37941d-e3c9-41f4-900d-26197dcc6cdd"
      },
      "outputs": [
        {
          "name": "stdout",
          "output_type": "stream",
          "text": [
            "Downloading http://yann.lecun.com/exdb/mnist/train-images-idx3-ubyte.gz\n",
            "Failed to download (trying next):\n",
            "HTTP Error 403: Forbidden\n",
            "\n",
            "Downloading https://ossci-datasets.s3.amazonaws.com/mnist/train-images-idx3-ubyte.gz\n",
            "Downloading https://ossci-datasets.s3.amazonaws.com/mnist/train-images-idx3-ubyte.gz to ./dataset/MNIST/raw/train-images-idx3-ubyte.gz\n"
          ]
        },
        {
          "name": "stderr",
          "output_type": "stream",
          "text": [
            "100%|██████████| 9912422/9912422 [00:00<00:00, 49781255.08it/s]\n"
          ]
        },
        {
          "name": "stdout",
          "output_type": "stream",
          "text": [
            "Extracting ./dataset/MNIST/raw/train-images-idx3-ubyte.gz to ./dataset/MNIST/raw\n",
            "\n",
            "Downloading http://yann.lecun.com/exdb/mnist/train-labels-idx1-ubyte.gz\n",
            "Failed to download (trying next):\n",
            "HTTP Error 403: Forbidden\n",
            "\n",
            "Downloading https://ossci-datasets.s3.amazonaws.com/mnist/train-labels-idx1-ubyte.gz\n",
            "Downloading https://ossci-datasets.s3.amazonaws.com/mnist/train-labels-idx1-ubyte.gz to ./dataset/MNIST/raw/train-labels-idx1-ubyte.gz\n"
          ]
        },
        {
          "name": "stderr",
          "output_type": "stream",
          "text": [
            "100%|██████████| 28881/28881 [00:00<00:00, 21639102.15it/s]"
          ]
        },
        {
          "name": "stdout",
          "output_type": "stream",
          "text": [
            "Extracting ./dataset/MNIST/raw/train-labels-idx1-ubyte.gz to ./dataset/MNIST/raw\n",
            "\n",
            "Downloading http://yann.lecun.com/exdb/mnist/t10k-images-idx3-ubyte.gz\n"
          ]
        },
        {
          "name": "stderr",
          "output_type": "stream",
          "text": [
            "\n"
          ]
        },
        {
          "name": "stdout",
          "output_type": "stream",
          "text": [
            "Failed to download (trying next):\n",
            "HTTP Error 403: Forbidden\n",
            "\n",
            "Downloading https://ossci-datasets.s3.amazonaws.com/mnist/t10k-images-idx3-ubyte.gz\n",
            "Downloading https://ossci-datasets.s3.amazonaws.com/mnist/t10k-images-idx3-ubyte.gz to ./dataset/MNIST/raw/t10k-images-idx3-ubyte.gz\n"
          ]
        },
        {
          "name": "stderr",
          "output_type": "stream",
          "text": [
            "100%|██████████| 1648877/1648877 [00:00<00:00, 45173855.43it/s]\n"
          ]
        },
        {
          "name": "stdout",
          "output_type": "stream",
          "text": [
            "Extracting ./dataset/MNIST/raw/t10k-images-idx3-ubyte.gz to ./dataset/MNIST/raw\n",
            "\n",
            "Downloading http://yann.lecun.com/exdb/mnist/t10k-labels-idx1-ubyte.gz\n",
            "Failed to download (trying next):\n",
            "HTTP Error 403: Forbidden\n",
            "\n",
            "Downloading https://ossci-datasets.s3.amazonaws.com/mnist/t10k-labels-idx1-ubyte.gz\n",
            "Downloading https://ossci-datasets.s3.amazonaws.com/mnist/t10k-labels-idx1-ubyte.gz to ./dataset/MNIST/raw/t10k-labels-idx1-ubyte.gz\n"
          ]
        },
        {
          "name": "stderr",
          "output_type": "stream",
          "text": [
            "100%|██████████| 4542/4542 [00:00<00:00, 5593226.30it/s]"
          ]
        },
        {
          "name": "stdout",
          "output_type": "stream",
          "text": [
            "Extracting ./dataset/MNIST/raw/t10k-labels-idx1-ubyte.gz to ./dataset/MNIST/raw\n",
            "\n"
          ]
        },
        {
          "name": "stderr",
          "output_type": "stream",
          "text": [
            "\n"
          ]
        }
      ],
      "source": [
        "transform = transforms.Compose([\n",
        "    transforms.ToTensor(),\n",
        "    transforms.Normalize(mean = (0.1307), std = (0.3081))\n",
        "])\n",
        "\n",
        "mnist_dataset = datasets.MNIST(root = './dataset', train = True, download = 'True', transform=transform)"
      ]
    },
    {
      "cell_type": "markdown",
      "metadata": {
        "id": "N9l5pAz9LABG"
      },
      "source": [
        "Let us display the first image of this data set for verification purposes."
      ]
    },
    {
      "cell_type": "code",
      "execution_count": null,
      "metadata": {
        "colab": {
          "base_uri": "https://localhost:8080/",
          "height": 452
        },
        "id": "kgfLpgNeLESR",
        "outputId": "e41f8539-6720-4bf6-fd85-787249c66683"
      },
      "outputs": [
        {
          "data": {
            "image/png": "[encoded data removed]",
            "text/plain": [
              "<Figure size 640x480 with 1 Axes>"
            ]
          },
          "metadata": {},
          "output_type": "display_data"
        }
      ],
      "source": [
        "image, label = mnist_dataset[0]\n",
        "# mnist_dataset is an array with each element being a tuple containing the normalized image in tensor form with dimension channels x height x width\n",
        "# and the label.\n",
        "plt.imshow(image.squeeze().numpy(), cmap='gray')\n",
        "plt.title(f'Label: {label}')\n",
        "plt.show()"
      ]
    },
    {
      "cell_type": "markdown",
      "metadata": {
        "id": "FU_TvufkLG0K"
      },
      "source": [
        "Let us now segregate the data set into the training data set and the testing data set."
      ]
    },
    {
      "cell_type": "code",
      "execution_count": null,
      "metadata": {
        "id": "_cn926xXLLjX"
      },
      "outputs": [],
      "source": [
        "training_datasize = int(0.8*len(mnist_dataset))\n",
        "testing_datasize = len(mnist_dataset) - training_datasize\n",
        "\n",
        "# Split the data randomly using random_split in torch.utils.data. Can be split using slicing of arrays too after using shuffle on the array.\n",
        "training_data, testing_data = random_split(mnist_dataset, [training_datasize, testing_datasize])\n",
        "\n",
        "# Load the data in batches.\n",
        "train_loader = DataLoader(training_data, batch_size = 64, shuffle=True)\n",
        "test_loader = DataLoader(testing_data, batch_size = 1000, shuffle=True)"
      ]
    },
    {
      "cell_type": "markdown",
      "metadata": {
        "id": "06cqSWY9LMMJ"
      },
      "source": [
        "Now let us design our Neural Network Model from the Base Class available in torch for Neural Networks ie nn.Module."
      ]
    },
    {
      "cell_type": "code",
      "execution_count": null,
      "metadata": {
        "id": "GoqAFS0NLPSF"
      },
      "outputs": [],
      "source": [
        "class NN_Model (nn.Module):\n",
        "    def __init__(self):\n",
        "        super().__init__()\n",
        "        self.conv1 = nn.Conv2d(1, 32, kernel_size=3, stride=1, padding=1) # We are using same padding.\n",
        "        self.conv2 = nn.Conv2d(32, 64, kernel_size=3, stride=1, padding=1)\n",
        "        # We are going to use max pooling layers of size 2 and stride 2. Two such layers means the final size = 64*7*7\n",
        "        self.fc1 = nn.Linear(64*7*7, 128)\n",
        "        self.fc2 = nn.Linear(128, 10)\n",
        "\n",
        "        self.relu = nn.ReLU()  # RELU activation.\n",
        "\n",
        "        # Let us stick to the default initializations.\n",
        "\n",
        "    def forward(self, x):\n",
        "        x = self.relu(self.conv1(x))\n",
        "        x = F.max_pool2d(x, kernel_size=2, stride=2) # Size = (size-kernel_size)/stride + 1 = size/2 in this case\n",
        "        x = self.relu(self.conv2(x))\n",
        "        x = F.max_pool2d(x, kernel_size=2, stride=2)\n",
        "\n",
        "        # Now we need to flatten the array to uni dimension. Note that x.size[0] is batch_size and hence should remain same.\n",
        "        x = x.reshape(x.size(0), -1)\n",
        "\n",
        "        x = self.fc1(x)\n",
        "        x = self.fc2(x)\n",
        "\n",
        "        return x"
      ]
    },
    {
      "cell_type": "markdown",
      "metadata": {
        "id": "7lOlF1fyLScG"
      },
      "source": [
        "Now let us complete our model by defining the optimizer and the Loss computation criteria used."
      ]
    },
    {
      "cell_type": "code",
      "execution_count": null,
      "metadata": {
        "id": "5Ugl_7Y_LWGG"
      },
      "outputs": [],
      "source": [
        "model = NN_Model()\n",
        "\n",
        "optimizer = optim.Adam(model.parameters(), lr= 1e-3)\n",
        "loss_criterion = nn.CrossEntropyLoss()"
      ]
    },
    {
      "cell_type": "markdown",
      "metadata": {
        "id": "8Jq555XLLYRg"
      },
      "source": [
        "Our Model is now complete.\n",
        "Let us now define the Train function."
      ]
    },
    {
      "cell_type": "code",
      "execution_count": null,
      "metadata": {
        "id": "Qvnxu9rrLczO"
      },
      "outputs": [],
      "source": [
        "def Train_Model(model, train_loader, optimizer, loss_criterion, epochs = 5):\n",
        "    for epoch in range(epochs):\n",
        "        model.train()\n",
        "        cum_loss = 0\n",
        "        batch_no = 0\n",
        "        for inputs, labels in train_loader:\n",
        "            outputs_model = model.forward(inputs)  # Array of output labels from model.ipynb\n",
        "\n",
        "            optimizer.zero_grad()\n",
        "            Loss = loss_criterion(outputs_model, labels) # A tensor\n",
        "            Loss.backward()\n",
        "\n",
        "            # Update the weights and biases for this batch.\n",
        "            optimizer.step()\n",
        "\n",
        "            # Lets add the loss to the cum_loss so as to find the average loss for this epoch.\n",
        "            cum_loss += Loss*inputs.size(0)\n",
        "            batch_no+=1\n",
        "\n",
        "        cum_loss = cum_loss / batch_no\n",
        "\n",
        "        print(f'Cummulative Loss for epoch = {epoch} : {cum_loss} ')\n",
        "\n",
        "        # Done"
      ]
    },
    {
      "cell_type": "markdown",
      "metadata": {
        "id": "sLTxRKnKLhpj"
      },
      "source": [
        "Let us also make an evaluation function that determines the accuracy of the model after the training is over.\n",
        "Let us just use a simple estimate of (number of correct matches)/(size of test data) * 100."
      ]
    },
    {
      "cell_type": "code",
      "execution_count": null,
      "metadata": {
        "id": "afSC7yFQLnWn"
      },
      "outputs": [],
      "source": [
        "def Accuracy(model, test_loader):\n",
        "    model.eval()\n",
        "    test_datasize = len(test_loader.dataset)\n",
        "    valid_preds = 0\n",
        "\n",
        "    with torch.no_grad():\n",
        "        for data, label in test_loader:\n",
        "            output = model(data)\n",
        "            _, predicted = torch.max(output, 1)\n",
        "            valid_preds += (predicted == label).sum().item()\n",
        "\n",
        "    accuracy = (valid_preds / test_datasize) * 100\n",
        "    print(f\"Accuracy = {accuracy:0.4f}%\")"
      ]
    },
    {
      "cell_type": "markdown",
      "metadata": {
        "id": "ZXj3QKR_LrWG"
      },
      "source": [
        "Now for our main_function to train the model."
      ]
    },
    {
      "cell_type": "code",
      "execution_count": null,
      "metadata": {
        "colab": {
          "background_save": true
        },
        "id": "EY5Zc68oLudm",
        "outputId": "7c51a796-0333-46e0-e343-9991068d436c"
      },
      "outputs": [
        {
          "name": "stdout",
          "output_type": "stream",
          "text": [
            "Cummulative Loss for epoch = 0 : 1.4503700733184814 \n",
            "Cummulative Loss for epoch = 1 : 1.0221213102340698 \n",
            "Cummulative Loss for epoch = 2 : 0.8546539545059204 \n",
            "Cummulative Loss for epoch = 3 : 0.7988690733909607 \n",
            "Cummulative Loss for epoch = 4 : 0.6636723875999451 \n"
          ]
        }
      ],
      "source": [
        "if __name__ == '__main__' :\n",
        "    Train_Model(model, train_loader, optimizer, loss_criterion, epochs = 5)\n"
      ]
    },
    {
      "cell_type": "markdown",
      "metadata": {
        "id": "kjNwVVLPVliU"
      },
      "source": [
        "Let us display the total accuracy over the entire data set."
      ]
    },
    {
      "cell_type": "code",
      "execution_count": null,
      "metadata": {
        "colab": {
          "base_uri": "https://localhost:8080/"
        },
        "id": "sgpjD3umVbuf",
        "outputId": "8405538d-9f77-4cc3-8131-ea2d35a47f98"
      },
      "outputs": [
        {
          "name": "stdout",
          "output_type": "stream",
          "text": [
            "Accuracy = 99.3083%\n"
          ]
        }
      ],
      "source": [
        "Accuracy(model, test_loader)"
      ]
    },
    {
      "cell_type": "markdown",
      "metadata": {
        "id": "n6qd9ZXrVq_9"
      },
      "source": [
        "Now let us check for a random image in data set at index say i which is variable."
      ]
    },
    {
      "cell_type": "code",
      "execution_count": null,
      "metadata": {
        "id": "t_eTRs0LVxlj"
      },
      "outputs": [],
      "source": [
        "def output_label(model, i):\n",
        "  image, actual_label = mnist_dataset[i]\n",
        "  output_model = model.forward(image.unsqueeze(0)) # Add a batch dimension\n",
        "  _, predicted_label = torch.max(output_model, 1)\n",
        "\n",
        "  # Show the image.\n",
        "  plt.imshow(image.squeeze().numpy(), cmap='gray')\n",
        "  plt.title(f'Actual Label = {actual_label}, Predicted Label = {predicted_label.item()}')\n",
        "  plt.show()\n"
      ]
    },
    {
      "cell_type": "markdown",
      "source": [
        "Choose an index i and verify the result\n"
      ],
      "metadata": {
        "id": "i3nzTlS7eXjg"
      }
    },
    {
      "cell_type": "code",
      "source": [
        "output_label(model, 5)"
      ],
      "metadata": {
        "colab": {
          "base_uri": "https://localhost:8080/",
          "height": 452
        },
        "id": "350zovLbedtE",
        "outputId": "6c432837-a2b7-4e00-d078-401f26ef30a4"
      },
      "execution_count": null,
      "outputs": [
        {
          "output_type": "display_data",
          "data": {
            "text/plain": [
              "<Figure size 640x480 with 1 Axes>"
            ],
            "image/png": "[encoded data removed]"
          },
          "metadata": {}
        }
      ]
    }
  ],
  "metadata": {
    "colab": {
      "provenance": [],
      "authorship_tag": "ABX9TyOXaq6LPjR7xl2hq0VrBKPS",
      "include_colab_link": true
    },
    "kernelspec": {
      "display_name": "Python 3",
      "name": "python3"
    },
    "language_info": {
      "name": "python"
    }
  },
  "nbformat": 4,
  "nbformat_minor": 0
}